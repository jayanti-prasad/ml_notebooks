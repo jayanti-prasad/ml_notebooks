{
 "cells": [
  {
   "cell_type": "markdown",
   "id": "34a772b5",
   "metadata": {},
   "source": [
    "# The Boston Housing Dataset\n",
    "\n",
    "The Boston Housing Dataset is a derived from information collected by the U.S. Census Service concerning housing in the area of Boston MA. The following describes the dataset columns:\n",
    "\n",
    "- [CRIM] - per capita crime rate by town\n",
    "- [ZN] - proportion of residential land zoned for lots over 25,000 sq.ft.\n",
    "- [INDUS] - proportion of non-retail business acres per town.\n",
    "- [CHAS] - Charles River dummy variable (1 if tract bounds river; 0 otherwise)\n",
    "- [NOX] - nitric oxides concentration (parts per 10 million)\n",
    "- [RM] - average number of rooms per dwelling\n",
    "- [AGE] - proportion of owner-occupied units built prior to 1940\n",
    "- [DIS] - weighted distances to five Boston employment centres\n",
    "- [RAD] - index of accessibility to radial highways\n",
    "- [TAX] - full-value property-tax rate per 10,000 USD \n",
    "- [PTRATIO] - pupil-teacher ratio by town\n",
    "- [B] - 1000(Bk - 0.63)^2 where Bk is the proportion of blacks by town\n",
    "- [LSTAT] - % lower status of the population\n",
    "- [MEDV[ - Median value of owner-occupied homes in $1000's"
   ]
  },
  {
   "cell_type": "code",
   "execution_count": 23,
   "id": "016a580e",
   "metadata": {},
   "outputs": [
    {
     "name": "stdout",
     "output_type": "stream",
     "text": [
      "3.9.16\n",
      "['CRIM', 'ZN', 'INDUS', 'CHAS', 'NOX', 'RM', 'AGE', 'DIS', 'RAD', 'TAX', 'PTRATIO', 'B', 'LSTAT']\n",
      "The model performance for training set\n",
      "--------------------------------------\n",
      "RMSE is 4.6520331848801675\n",
      "R2 score is 0.7508856358979672\n",
      "\n",
      "\n",
      "The model performance for testing set\n",
      "--------------------------------------\n",
      "RMSE is 4.9286021826653625\n",
      "R2 score is 0.6687594935356285\n"
     ]
    }
   ],
   "source": [
    "from platform import python_version \n",
    "print(python_version())\n",
    "import pandas as pd\n",
    "import matplotlib.pyplot as plt\n",
    "import numpy as np\n",
    "from sklearn import datasets, linear_model\n",
    "from sklearn.metrics import mean_squared_error, r2_score\n",
    "from sklearn.model_selection import train_test_split\n",
    "from scipy import stats\n",
    "\n",
    "\n",
    "def get_data ():\n",
    "    df = pd.read_csv(\"data/boston_housing.csv\")  \n",
    "    df = df.loc[:, ~df.columns.str.contains('^Unnamed')]\n",
    "    cols = list (df.columns)\n",
    "    features = cols[:-1]\n",
    "    print(features)\n",
    "    label = cols[-1]\n",
    "    X = df[features].copy().to_numpy()\n",
    "    y = df[label].to_list()\n",
    "    X_train, X_test, y_train, y_test = train_test_split(X, y, test_size=0.20, random_state=42)\n",
    "    return X_train, y_train, X_test, y_test \n",
    "\n",
    "\n",
    "if __name__ == \"__main__\":\n",
    "    X_train, y_train, X_test, y_test  = get_data ()\n",
    "\n",
    "    lin_model = linear_model.LinearRegression()\n",
    "    lin_model.fit(X_train, y_train)\n",
    "\n",
    "    # model evaluation for training set\n",
    "    y_train_predict = lin_model.predict(X_train)\n",
    "    rmse = (np.sqrt(mean_squared_error(y_train, y_train_predict)))\n",
    "    r2 = r2_score(y_train, y_train_predict)\n",
    "\n",
    "    print(\"The model performance for training set\")\n",
    "    print(\"--------------------------------------\")\n",
    "    print('RMSE is {}'.format(rmse))\n",
    "    print('R2 score is {}'.format(r2))\n",
    "    print(\"\\n\")\n",
    "\n",
    "    # model evaluation for testing set\n",
    "    y_test_predict = lin_model.predict(X_test)\n",
    "    rmse = (np.sqrt(mean_squared_error(y_test, y_test_predict)))\n",
    "    r2 = r2_score(y_test, y_test_predict)\n",
    "\n",
    "    print(\"The model performance for testing set\")\n",
    "    print(\"--------------------------------------\")\n",
    "    print('RMSE is {}'.format(rmse))\n",
    "    print('R2 score is {}'.format(r2))"
   ]
  },
  {
   "cell_type": "code",
   "execution_count": null,
   "id": "89aa0502",
   "metadata": {},
   "outputs": [],
   "source": []
  },
  {
   "cell_type": "code",
   "execution_count": null,
   "id": "4467d7e8",
   "metadata": {},
   "outputs": [],
   "source": []
  }
 ],
 "metadata": {
  "kernelspec": {
   "display_name": "Python 3 (ipykernel)",
   "language": "python",
   "name": "python3"
  },
  "language_info": {
   "codemirror_mode": {
    "name": "ipython",
    "version": 3
   },
   "file_extension": ".py",
   "mimetype": "text/x-python",
   "name": "python",
   "nbconvert_exporter": "python",
   "pygments_lexer": "ipython3",
   "version": "3.9.7"
  }
 },
 "nbformat": 4,
 "nbformat_minor": 5
}
